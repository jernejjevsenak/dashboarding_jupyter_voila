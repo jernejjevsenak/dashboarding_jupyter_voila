{
 "cells": [
  {
   "cell_type": "markdown",
   "metadata": {
    "Collapsed": "false"
   },
   "source": [
    "<img src='./img/opengeohub_logo.png' alt='OpenGeoHub Logo' align='right' width='15%'></img>"
   ]
  },
  {
   "cell_type": "code",
   "execution_count": 6,
   "metadata": {},
   "outputs": [],
   "source": [
    "from ipywidgets import interact, interactive, interactive_output, fixed, interact_manual\n",
    "import ipywidgets as widgets\n",
    "from matplotlib import pyplot as plt"
   ]
  },
  {
   "cell_type": "markdown",
   "metadata": {
    "Collapsed": "false"
   },
   "source": [
    "# <a id='climate_graph'></a>Example - Interactive climate graph application"
   ]
  },
  {
   "cell_type": "code",
   "execution_count": null,
   "metadata": {
    "Collapsed": "false"
   },
   "outputs": [],
   "source": [
    "from IPython.display import display, clear_output\n",
    "import ipywidgets as widgets\n",
    "import numpy as np\n",
    "import ee\n",
    "\n",
    "import plotly.graph_objs as go\n"
   ]
  },
  {
   "cell_type": "code",
   "execution_count": null,
   "metadata": {
    "Collapsed": "false"
   },
   "outputs": [],
   "source": [
    "ee.Initialize()"
   ]
  },
  {
   "cell_type": "code",
   "execution_count": null,
   "metadata": {
    "Collapsed": "false"
   },
   "outputs": [],
   "source": [
    "era5_monthly = ee.ImageCollection('ECMWF/ERA5/MONTHLY')"
   ]
  },
  {
   "cell_type": "code",
   "execution_count": null,
   "metadata": {
    "Collapsed": "false"
   },
   "outputs": [],
   "source": [
    "era5_monthly_img = era5_monthly.limit(1).first()\n",
    "collection_img_proj = era5_monthly_img.select(0).projection()\n",
    "#era5_monthly_img.getInfo()"
   ]
  },
  {
   "cell_type": "code",
   "execution_count": null,
   "metadata": {
    "Collapsed": "false"
   },
   "outputs": [],
   "source": [
    "months = range(1,13)\n",
    "\n",
    "# Store images in a list\n",
    "img_list = []\n",
    "for i in months:\n",
    "    collection_filtered = era5_monthly.filter(ee.Filter.calendarRange(i,i, 'month'))\n",
    "    collection_red = collection_filtered.reduce(ee.Reducer.mean())\n",
    "    \n",
    "    collection_red_proj = collection_red.setDefaultProjection(collection_img_proj)\n",
    "    img_list.append(collection_red_proj)\n",
    "    \n",
    "#img_list[0].getInfo()"
   ]
  },
  {
   "cell_type": "code",
   "execution_count": null,
   "metadata": {
    "Collapsed": "false"
   },
   "outputs": [],
   "source": [
    "meanMonths_collection = ee.ImageCollection.fromImages(img_list)\n",
    "#meanMonths_collection.getInfo()"
   ]
  },
  {
   "cell_type": "code",
   "execution_count": null,
   "metadata": {},
   "outputs": [],
   "source": [
    "longitude =12.5\n",
    "latitude = 41.9"
   ]
  },
  {
   "cell_type": "code",
   "execution_count": null,
   "metadata": {},
   "outputs": [],
   "source": [
    "point = ee.Geometry.Point(longitude,latitude)\n",
    "tp_point = meanMonths_collection.select('total_precipitation_mean').getRegion(point,500).getInfo()\n",
    "t2m_point = meanMonths_collection.select('mean_2m_air_temperature_mean').getRegion(point,500).getInfo()\n"
   ]
  },
  {
   "cell_type": "code",
   "execution_count": null,
   "metadata": {},
   "outputs": [],
   "source": [
    "ydata_tp = [row[4]*1000 for row in tp_point[1:]]\n",
    "    \n",
    "ydata_t2m = [row[4]-273.15 for row in t2m_point[1:]]"
   ]
  },
  {
   "cell_type": "code",
   "execution_count": null,
   "metadata": {},
   "outputs": [],
   "source": [
    "def visualize_climate_graph():    \n",
    "    point = ee.Geometry.Point(lon.value, lat.value)\n",
    "    tp_point = meanMonths_collection.select('total_precipitation_mean').getRegion(point,500).getInfo()\n",
    "    t2m_point = meanMonths_collection.select('mean_2m_air_temperature_mean').getRegion(point,500).getInfo()\n",
    "\n",
    "    ydata_tp = [row[4]*1000 for row in tp_point[1:]]\n",
    "    ydata_t2m = [row[4]-273.2 for row in t2m_point[1:]]\n",
    "\n",
    "    tp = go.Bar(\n",
    "        x=['Jan', 'Feb', 'Mar', 'Apr', 'May', 'Jun','Jul', 'Aug', 'Sep', 'Oct', 'Nov', 'Dec'],\n",
    "        y=ydata_tp,\n",
    "        name='Total precipitation in mm',\n",
    "        marker=dict(\n",
    "            color='rgb(204,204,204)',\n",
    "        ))\n",
    "    \n",
    "    t2m = go.Scatter(\n",
    "        x=['Jan', 'Feb', 'Mar', 'Apr', 'May', 'Jun','Jul', 'Aug', 'Sep', 'Oct', 'Nov', 'Dec'],\n",
    "        y=ydata_t2m,\n",
    "        name=\"2m air temperature in deg C\",\n",
    "        yaxis='y2')\n",
    "\n",
    "    data = [tp,t2m]\n",
    "    layout = go.Layout(\n",
    "        title='Climate graph at location '+ str(round(lat.value,2)) + ' / '+ str(round(lon.value,2)) + ' (lat/lon)',\n",
    "        yaxis=dict(\n",
    "            title=\"Total precipitation in mm\",\n",
    "            dtick=20\n",
    "        ),\n",
    "        yaxis2=dict(\n",
    "            title=\"2 m air temperature in degC\",\n",
    "            overlaying='y',\n",
    "            side='right',\n",
    "            range=[min(ydata_t2m)-2,max(ydata_t2m)+2],\n",
    "            dtick=5\n",
    "        ),\n",
    "        plot_bgcolor='white',\n",
    "        legend=dict(\n",
    "            orientation='h')\n",
    "    )\n",
    "\n",
    "    fig = go.Figure(data=data, layout=layout)\n",
    "    return fig"
   ]
  },
  {
   "cell_type": "code",
   "execution_count": null,
   "metadata": {},
   "outputs": [],
   "source": [
    "lat = widgets.FloatSlider(\n",
    "    value=41.9,\n",
    "    min=-90.0,\n",
    "    max=90.0,\n",
    "    step=0.25,\n",
    "    description='Latitude:',\n",
    "    disabled=False,\n",
    "    continuous_update=False,\n",
    "    orientation='horizontal', #horizontal\n",
    "    readout=True\n",
    ")\n"
   ]
  },
  {
   "cell_type": "code",
   "execution_count": null,
   "metadata": {},
   "outputs": [],
   "source": [
    "lon = widgets.FloatSlider(\n",
    "    value=12.5,\n",
    "    min=-180.0,\n",
    "    max=180.0,\n",
    "    step=0.25,\n",
    "    description='Longitude:',\n",
    "    disabled=False,\n",
    "    continuous_update=False,\n",
    "    orientation='horizontal',\n",
    "    readout=True\n",
    ")\n"
   ]
  },
  {
   "cell_type": "code",
   "execution_count": null,
   "metadata": {},
   "outputs": [],
   "source": [
    "def click(b):\n",
    "    fig = visualize_climate_graph()\n",
    "    with out:\n",
    "        clear_output(wait=True)\n",
    "        fig.show()"
   ]
  },
  {
   "cell_type": "code",
   "execution_count": null,
   "metadata": {},
   "outputs": [],
   "source": [
    "button=widgets.Button(description='Plot climate graph')\n",
    "button.on_click(click)"
   ]
  },
  {
   "cell_type": "code",
   "execution_count": null,
   "metadata": {
    "Collapsed": "false"
   },
   "outputs": [],
   "source": [
    "out=widgets.Output()\n",
    "display(widgets.HBox([lat,lon]))\n",
    "display(button)\n",
    "display(out)"
   ]
  },
  {
   "cell_type": "markdown",
   "metadata": {},
   "source": [
    "<br>"
   ]
  },
  {
   "cell_type": "markdown",
   "metadata": {
    "Collapsed": "false"
   },
   "source": [
    "<hr>\n",
    "<a rel=\"license\" href=\"http://creativecommons.org/licenses/by/4.0/\"><img style=\"float: right\" alt=\"Creative Commons Lizenzvertrag\" style=\"border-width:0\" src=\"https://i.creativecommons.org/l/by/4.0/88x31.png\" /></a>"
   ]
  }
 ],
 "metadata": {
  "kernelspec": {
   "display_name": "Python 3",
   "language": "python",
   "name": "python3"
  },
  "language_info": {
   "codemirror_mode": {
    "name": "ipython",
    "version": 3
   },
   "file_extension": ".py",
   "mimetype": "text/x-python",
   "name": "python",
   "nbconvert_exporter": "python",
   "pygments_lexer": "ipython3",
   "version": "3.7.0"
  }
 },
 "nbformat": 4,
 "nbformat_minor": 4
}
